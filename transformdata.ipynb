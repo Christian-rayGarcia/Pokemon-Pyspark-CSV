{
 "cells": [
  {
   "cell_type": "code",
   "execution_count": 185,
   "id": "initial_id",
   "metadata": {
    "collapsed": true,
    "ExecuteTime": {
     "end_time": "2024-07-04T18:24:30.474318Z",
     "start_time": "2024-07-04T18:24:30.472328Z"
    }
   },
   "outputs": [],
   "source": [
    "from pyspark.sql import SparkSession\n",
    "import pyspark"
   ]
  },
  {
   "cell_type": "code",
   "outputs": [],
   "source": [
    "spark = (SparkSession.builder\n",
    "         .appName(\"CleanData\")\n",
    "         .getOrCreate())"
   ],
   "metadata": {
    "collapsed": false,
    "ExecuteTime": {
     "end_time": "2024-07-04T18:24:30.491799Z",
     "start_time": "2024-07-04T18:24:30.484732Z"
    }
   },
   "id": "9bac70d31271fe76",
   "execution_count": 186
  },
  {
   "cell_type": "code",
   "outputs": [],
   "source": [
    "df = spark.read.csv(\"pokemon_base_data.csv\")"
   ],
   "metadata": {
    "collapsed": false,
    "ExecuteTime": {
     "end_time": "2024-07-04T18:24:30.808572Z",
     "start_time": "2024-07-04T18:24:30.492807Z"
    }
   },
   "id": "80b9b126bfd81668",
   "execution_count": 187
  },
  {
   "cell_type": "code",
   "outputs": [
    {
     "name": "stdout",
     "output_type": "stream",
     "text": [
      "+-----+----------+-------------+\n",
      "|  _c0|       _c1|          _c2|\n",
      "+-----+----------+-------------+\n",
      "|Index|      Name|         Type|\n",
      "|    1| bulbasaur| grass poison|\n",
      "|    2|   ivysaur| grass poison|\n",
      "|    3|  venusaur| grass poison|\n",
      "|    4|charmander|         fire|\n",
      "|    5|charmeleon|         fire|\n",
      "|    6| charizard|  fire flying|\n",
      "|    7|  squirtle|        water|\n",
      "|    8| wartortle|        water|\n",
      "|    9| blastoise|        water|\n",
      "|   10|  caterpie|          bug|\n",
      "|   11|   metapod|          bug|\n",
      "|   12|butterfree|   bug flying|\n",
      "|   13|    weedle|   bug poison|\n",
      "|   14|    kakuna|   bug poison|\n",
      "|   15|  beedrill|   bug poison|\n",
      "|   16|    pidgey|normal flying|\n",
      "|   17| pidgeotto|normal flying|\n",
      "|   18|   pidgeot|normal flying|\n",
      "|   19|   rattata|       normal|\n",
      "+-----+----------+-------------+\n"
     ]
    }
   ],
   "source": [
    "df.show()"
   ],
   "metadata": {
    "collapsed": false,
    "ExecuteTime": {
     "end_time": "2024-07-04T18:24:30.852412Z",
     "start_time": "2024-07-04T18:24:30.809436Z"
    }
   },
   "id": "2e7430628d9bf82b",
   "execution_count": 188
  },
  {
   "cell_type": "code",
   "outputs": [
    {
     "name": "stdout",
     "output_type": "stream",
     "text": [
      "root\n",
      " |-- _c0: string (nullable = true)\n",
      " |-- _c1: string (nullable = true)\n",
      " |-- _c2: string (nullable = true)\n"
     ]
    }
   ],
   "source": [
    "df.printSchema()"
   ],
   "metadata": {
    "collapsed": false,
    "ExecuteTime": {
     "end_time": "2024-07-04T18:24:30.855082Z",
     "start_time": "2024-07-04T18:24:30.852958Z"
    }
   },
   "id": "a5b189f66e9e82cf",
   "execution_count": 189
  },
  {
   "cell_type": "code",
   "outputs": [],
   "source": [
    "df = df.withColumnRenamed(\"_c0\",\"Index\")\n",
    "df = df.withColumnRenamed(\"_c1\",\"Name\") \n",
    "df = df.withColumnRenamed(\"_c2\",\"Type\") \n"
   ],
   "metadata": {
    "collapsed": false,
    "ExecuteTime": {
     "end_time": "2024-07-04T18:24:30.861671Z",
     "start_time": "2024-07-04T18:24:30.856319Z"
    }
   },
   "id": "5f9acc16fa5a45c4",
   "execution_count": 190
  },
  {
   "cell_type": "code",
   "outputs": [
    {
     "name": "stdout",
     "output_type": "stream",
     "text": [
      "+-----+----------+-------------+\n",
      "|Index|      Name|         Type|\n",
      "+-----+----------+-------------+\n",
      "|Index|      Name|         Type|\n",
      "|    1| bulbasaur| grass poison|\n",
      "|    2|   ivysaur| grass poison|\n",
      "|    3|  venusaur| grass poison|\n",
      "|    4|charmander|         fire|\n",
      "|    5|charmeleon|         fire|\n",
      "|    6| charizard|  fire flying|\n",
      "|    7|  squirtle|        water|\n",
      "|    8| wartortle|        water|\n",
      "|    9| blastoise|        water|\n",
      "|   10|  caterpie|          bug|\n",
      "|   11|   metapod|          bug|\n",
      "|   12|butterfree|   bug flying|\n",
      "|   13|    weedle|   bug poison|\n",
      "|   14|    kakuna|   bug poison|\n",
      "|   15|  beedrill|   bug poison|\n",
      "|   16|    pidgey|normal flying|\n",
      "|   17| pidgeotto|normal flying|\n",
      "|   18|   pidgeot|normal flying|\n",
      "|   19|   rattata|       normal|\n",
      "+-----+----------+-------------+\n"
     ]
    }
   ],
   "source": [
    "df.show()"
   ],
   "metadata": {
    "collapsed": false,
    "ExecuteTime": {
     "end_time": "2024-07-04T18:24:30.919691Z",
     "start_time": "2024-07-04T18:24:30.862280Z"
    }
   },
   "id": "a7a79cdb081101a0",
   "execution_count": 191
  },
  {
   "cell_type": "markdown",
   "source": [
    "Splitting the type column"
   ],
   "metadata": {
    "collapsed": false
   },
   "id": "dca5a85318a702cb"
  },
  {
   "cell_type": "code",
   "outputs": [],
   "source": [
    "\n",
    "from pyspark.sql.functions import split\n",
    "\n",
    "#split the values column based on the space delimiter\n",
    "split_col = split(df['type'], ' ')\n",
    "\n",
    "#adding the split columns to the data frame\n",
    "df = df.withColumn('Type1', split_col.getItem(0))\n",
    "df = df.withColumn('Type2', split_col.getItem(1))"
   ],
   "metadata": {
    "collapsed": false,
    "ExecuteTime": {
     "end_time": "2024-07-04T18:24:30.930345Z",
     "start_time": "2024-07-04T18:24:30.920474Z"
    }
   },
   "id": "c8ace15cea4d50f3",
   "execution_count": 192
  },
  {
   "cell_type": "code",
   "outputs": [
    {
     "name": "stdout",
     "output_type": "stream",
     "text": [
      "+-----+----------+-------------+------+------+\n",
      "|Index|      Name|         Type| Type1| Type2|\n",
      "+-----+----------+-------------+------+------+\n",
      "|Index|      Name|         Type|  Type|  NULL|\n",
      "|    1| bulbasaur| grass poison| grass|poison|\n",
      "|    2|   ivysaur| grass poison| grass|poison|\n",
      "|    3|  venusaur| grass poison| grass|poison|\n",
      "|    4|charmander|         fire|  fire|  NULL|\n",
      "|    5|charmeleon|         fire|  fire|  NULL|\n",
      "|    6| charizard|  fire flying|  fire|flying|\n",
      "|    7|  squirtle|        water| water|  NULL|\n",
      "|    8| wartortle|        water| water|  NULL|\n",
      "|    9| blastoise|        water| water|  NULL|\n",
      "|   10|  caterpie|          bug|   bug|  NULL|\n",
      "|   11|   metapod|          bug|   bug|  NULL|\n",
      "|   12|butterfree|   bug flying|   bug|flying|\n",
      "|   13|    weedle|   bug poison|   bug|poison|\n",
      "|   14|    kakuna|   bug poison|   bug|poison|\n",
      "|   15|  beedrill|   bug poison|   bug|poison|\n",
      "|   16|    pidgey|normal flying|normal|flying|\n",
      "|   17| pidgeotto|normal flying|normal|flying|\n",
      "|   18|   pidgeot|normal flying|normal|flying|\n",
      "|   19|   rattata|       normal|normal|  NULL|\n",
      "+-----+----------+-------------+------+------+\n"
     ]
    }
   ],
   "source": [
    "df.show()"
   ],
   "metadata": {
    "collapsed": false,
    "ExecuteTime": {
     "end_time": "2024-07-04T18:24:30.977258Z",
     "start_time": "2024-07-04T18:24:30.931059Z"
    }
   },
   "id": "8eb5d8d5a333030d",
   "execution_count": 193
  },
  {
   "cell_type": "code",
   "outputs": [],
   "source": [
    "df2 = spark.read.csv(\"pokemon_stats_data.csv\")"
   ],
   "metadata": {
    "collapsed": false,
    "ExecuteTime": {
     "end_time": "2024-07-04T18:24:31.062936Z",
     "start_time": "2024-07-04T18:24:30.977887Z"
    }
   },
   "id": "b8164ee4059a2cc8",
   "execution_count": 194
  },
  {
   "cell_type": "code",
   "outputs": [
    {
     "name": "stdout",
     "output_type": "stream",
     "text": [
      "+-----+---+-----+-------+------+-------+-------+\n",
      "|  _c0|_c1|  _c2|    _c3|   _c4|    _c5|    _c6|\n",
      "+-----+---+-----+-------+------+-------+-------+\n",
      "|Index| hp|speed|defense|attack|Sp. Atk|Sp. Def|\n",
      "|    1| 45|   49|     49|    65|     65|     45|\n",
      "|    2| 60|   62|     63|    80|     80|     60|\n",
      "|    3| 80|   82|     83|   100|    100|     80|\n",
      "|    4| 39|   52|     43|    60|     50|     65|\n",
      "|    5| 58|   64|     58|    80|     65|     80|\n",
      "|    6| 78|   84|     78|   109|     85|    100|\n",
      "|    7| 44|   48|     65|    50|     64|     43|\n",
      "|    8| 59|   63|     80|    65|     80|     58|\n",
      "|    9| 79|   83|    100|    85|    105|     78|\n",
      "|   10| 45|   30|     35|    20|     20|     45|\n",
      "|   11| 50|   20|     55|    25|     25|     30|\n",
      "|   12| 60|   45|     50|    90|     80|     70|\n",
      "|   13| 40|   35|     30|    20|     20|     50|\n",
      "|   14| 45|   25|     50|    25|     25|     35|\n",
      "|   15| 65|   90|     40|    45|     80|     75|\n",
      "|   16| 40|   45|     40|    35|     35|     56|\n",
      "|   17| 63|   60|     55|    50|     50|     71|\n",
      "|   18| 83|   80|     75|    70|     70|    101|\n",
      "|   19| 30|   56|     35|    25|     35|     72|\n",
      "+-----+---+-----+-------+------+-------+-------+\n"
     ]
    }
   ],
   "source": [
    "df2.show()"
   ],
   "metadata": {
    "collapsed": false,
    "ExecuteTime": {
     "end_time": "2024-07-04T18:24:31.101402Z",
     "start_time": "2024-07-04T18:24:31.063780Z"
    }
   },
   "id": "850420f83e8781b1",
   "execution_count": 195
  },
  {
   "cell_type": "code",
   "outputs": [],
   "source": [
    "df2 = df2.withColumnRenamed(\"_c0\",\"Index\")\n",
    "df2 = df2.withColumnRenamed(\"_c1\",\"Hp\") \n",
    "df2 = df2.withColumnRenamed(\"_c2\",\"Speed\")\n",
    "df2 = df2.withColumnRenamed(\"_c3\",\"Defence\") \n",
    "df2 = df2.withColumnRenamed(\"_c4\",\"Attack\")\n",
    "df2 = df2.withColumnRenamed(\"_c5\",\"Sp. Attack\") \n",
    "df2 = df2.withColumnRenamed(\"_c6\",\"Sp. Defence\")"
   ],
   "metadata": {
    "collapsed": false,
    "ExecuteTime": {
     "end_time": "2024-07-04T18:24:31.112948Z",
     "start_time": "2024-07-04T18:24:31.103088Z"
    }
   },
   "id": "26ff363c17f5699d",
   "execution_count": 196
  },
  {
   "cell_type": "code",
   "outputs": [
    {
     "name": "stdout",
     "output_type": "stream",
     "text": [
      "+-----+---+-----+-------+------+----------+-----------+\n",
      "|Index| Hp|Speed|Defence|Attack|Sp. Attack|Sp. Defence|\n",
      "+-----+---+-----+-------+------+----------+-----------+\n",
      "|Index| hp|speed|defense|attack|   Sp. Atk|    Sp. Def|\n",
      "|    1| 45|   49|     49|    65|        65|         45|\n",
      "|    2| 60|   62|     63|    80|        80|         60|\n",
      "|    3| 80|   82|     83|   100|       100|         80|\n",
      "|    4| 39|   52|     43|    60|        50|         65|\n",
      "|    5| 58|   64|     58|    80|        65|         80|\n",
      "|    6| 78|   84|     78|   109|        85|        100|\n",
      "|    7| 44|   48|     65|    50|        64|         43|\n",
      "|    8| 59|   63|     80|    65|        80|         58|\n",
      "|    9| 79|   83|    100|    85|       105|         78|\n",
      "|   10| 45|   30|     35|    20|        20|         45|\n",
      "|   11| 50|   20|     55|    25|        25|         30|\n",
      "|   12| 60|   45|     50|    90|        80|         70|\n",
      "|   13| 40|   35|     30|    20|        20|         50|\n",
      "|   14| 45|   25|     50|    25|        25|         35|\n",
      "|   15| 65|   90|     40|    45|        80|         75|\n",
      "|   16| 40|   45|     40|    35|        35|         56|\n",
      "|   17| 63|   60|     55|    50|        50|         71|\n",
      "|   18| 83|   80|     75|    70|        70|        101|\n",
      "|   19| 30|   56|     35|    25|        35|         72|\n",
      "+-----+---+-----+-------+------+----------+-----------+\n"
     ]
    }
   ],
   "source": [
    "df2.show()"
   ],
   "metadata": {
    "collapsed": false,
    "ExecuteTime": {
     "end_time": "2024-07-04T18:24:31.155819Z",
     "start_time": "2024-07-04T18:24:31.113449Z"
    }
   },
   "id": "3ae45290e9d4d1cf",
   "execution_count": 197
  },
  {
   "cell_type": "code",
   "outputs": [],
   "source": [
    "df3 = spark.read.csv(\"pokemon_species_data.csv\")"
   ],
   "metadata": {
    "collapsed": false,
    "ExecuteTime": {
     "end_time": "2024-07-04T18:24:31.220397Z",
     "start_time": "2024-07-04T18:24:31.156306Z"
    }
   },
   "id": "6ef1c84ad706efd4",
   "execution_count": 198
  },
  {
   "cell_type": "code",
   "outputs": [
    {
     "name": "stdout",
     "output_type": "stream",
     "text": [
      "+-----+-----------+----------+\n",
      "|  _c0|        _c1|       _c2|\n",
      "+-----+-----------+----------+\n",
      "|Index|IsLegendary|IsMythical|\n",
      "|    1|      False|     False|\n",
      "|    2|      False|     False|\n",
      "|    3|      False|     False|\n",
      "|    4|      False|     False|\n",
      "|    5|      False|     False|\n",
      "|    6|      False|     False|\n",
      "|    7|      False|     False|\n",
      "|    8|      False|     False|\n",
      "|    9|      False|     False|\n",
      "|   10|      False|     False|\n",
      "|   11|      False|     False|\n",
      "|   12|      False|     False|\n",
      "|   13|      False|     False|\n",
      "|   14|      False|     False|\n",
      "|   15|      False|     False|\n",
      "|   16|      False|     False|\n",
      "|   17|      False|     False|\n",
      "|   18|      False|     False|\n",
      "|   19|      False|     False|\n",
      "+-----+-----------+----------+\n"
     ]
    }
   ],
   "source": [
    "df3.show()"
   ],
   "metadata": {
    "collapsed": false,
    "ExecuteTime": {
     "end_time": "2024-07-04T18:24:31.259125Z",
     "start_time": "2024-07-04T18:24:31.220986Z"
    }
   },
   "id": "2d3a2e0006a12ac1",
   "execution_count": 199
  },
  {
   "cell_type": "code",
   "outputs": [],
   "source": [
    "df3 = df3.withColumnRenamed(\"_c0\",\"Index\")\n",
    "df3 = df3.withColumnRenamed(\"_c1\",\"IsLegendary\") \n",
    "df3 = df3.withColumnRenamed(\"_c2\",\"IsMythical\")"
   ],
   "metadata": {
    "collapsed": false,
    "ExecuteTime": {
     "end_time": "2024-07-04T18:24:31.267583Z",
     "start_time": "2024-07-04T18:24:31.260075Z"
    }
   },
   "id": "453438baf04163a1",
   "execution_count": 200
  },
  {
   "cell_type": "code",
   "outputs": [
    {
     "name": "stdout",
     "output_type": "stream",
     "text": [
      "+-----+-----------+----------+\n",
      "|Index|IsLegendary|IsMythical|\n",
      "+-----+-----------+----------+\n",
      "|Index|IsLegendary|IsMythical|\n",
      "|    1|      False|     False|\n",
      "|    2|      False|     False|\n",
      "|    3|      False|     False|\n",
      "|    4|      False|     False|\n",
      "|    5|      False|     False|\n",
      "|    6|      False|     False|\n",
      "|    7|      False|     False|\n",
      "|    8|      False|     False|\n",
      "|    9|      False|     False|\n",
      "|   10|      False|     False|\n",
      "|   11|      False|     False|\n",
      "|   12|      False|     False|\n",
      "|   13|      False|     False|\n",
      "|   14|      False|     False|\n",
      "|   15|      False|     False|\n",
      "|   16|      False|     False|\n",
      "|   17|      False|     False|\n",
      "|   18|      False|     False|\n",
      "|   19|      False|     False|\n",
      "+-----+-----------+----------+\n"
     ]
    }
   ],
   "source": [
    "df3.show()"
   ],
   "metadata": {
    "collapsed": false,
    "ExecuteTime": {
     "end_time": "2024-07-04T18:24:31.308927Z",
     "start_time": "2024-07-04T18:24:31.268224Z"
    }
   },
   "id": "2187d6f042cd6171",
   "execution_count": 201
  },
  {
   "cell_type": "code",
   "outputs": [],
   "source": [
    "first_join = df.join(df2, df.Index == df2.Index, \"left\").drop(df2.Index, df.Type)"
   ],
   "metadata": {
    "collapsed": false,
    "ExecuteTime": {
     "end_time": "2024-07-04T18:24:31.322329Z",
     "start_time": "2024-07-04T18:24:31.309632Z"
    }
   },
   "id": "9576d838b13f3d0",
   "execution_count": 202
  },
  {
   "cell_type": "code",
   "outputs": [
    {
     "name": "stdout",
     "output_type": "stream",
     "text": [
      "+-----+----------+------+------+---+-----+-------+------+----------+-----------+\n",
      "|Index|      Name| Type1| Type2| Hp|Speed|Defence|Attack|Sp. Attack|Sp. Defence|\n",
      "+-----+----------+------+------+---+-----+-------+------+----------+-----------+\n",
      "|Index|      Name|  Type|  NULL| hp|speed|defense|attack|   Sp. Atk|    Sp. Def|\n",
      "|    1| bulbasaur| grass|poison| 45|   49|     49|    65|        65|         45|\n",
      "|    2|   ivysaur| grass|poison| 60|   62|     63|    80|        80|         60|\n",
      "|    3|  venusaur| grass|poison| 80|   82|     83|   100|       100|         80|\n",
      "|    4|charmander|  fire|  NULL| 39|   52|     43|    60|        50|         65|\n",
      "|    5|charmeleon|  fire|  NULL| 58|   64|     58|    80|        65|         80|\n",
      "|    6| charizard|  fire|flying| 78|   84|     78|   109|        85|        100|\n",
      "|    7|  squirtle| water|  NULL| 44|   48|     65|    50|        64|         43|\n",
      "|    8| wartortle| water|  NULL| 59|   63|     80|    65|        80|         58|\n",
      "|    9| blastoise| water|  NULL| 79|   83|    100|    85|       105|         78|\n",
      "|   10|  caterpie|   bug|  NULL| 45|   30|     35|    20|        20|         45|\n",
      "|   11|   metapod|   bug|  NULL| 50|   20|     55|    25|        25|         30|\n",
      "|   12|butterfree|   bug|flying| 60|   45|     50|    90|        80|         70|\n",
      "|   13|    weedle|   bug|poison| 40|   35|     30|    20|        20|         50|\n",
      "|   14|    kakuna|   bug|poison| 45|   25|     50|    25|        25|         35|\n",
      "|   15|  beedrill|   bug|poison| 65|   90|     40|    45|        80|         75|\n",
      "|   16|    pidgey|normal|flying| 40|   45|     40|    35|        35|         56|\n",
      "|   17| pidgeotto|normal|flying| 63|   60|     55|    50|        50|         71|\n",
      "|   18|   pidgeot|normal|flying| 83|   80|     75|    70|        70|        101|\n",
      "|   19|   rattata|normal|  NULL| 30|   56|     35|    25|        35|         72|\n",
      "+-----+----------+------+------+---+-----+-------+------+----------+-----------+\n"
     ]
    }
   ],
   "source": [
    "first_join.show()"
   ],
   "metadata": {
    "collapsed": false,
    "ExecuteTime": {
     "end_time": "2024-07-04T18:24:31.617401Z",
     "start_time": "2024-07-04T18:24:31.322847Z"
    }
   },
   "id": "3d76bd6766638b8d",
   "execution_count": 203
  },
  {
   "cell_type": "code",
   "outputs": [],
   "source": [
    "df = first_join.join(df3, first_join.Index == df3.Index, \"left\").drop(df3.Index)"
   ],
   "metadata": {
    "collapsed": false,
    "ExecuteTime": {
     "end_time": "2024-07-04T18:24:31.672066Z",
     "start_time": "2024-07-04T18:24:31.618005Z"
    }
   },
   "id": "e22b544eb085fc14",
   "execution_count": 204
  },
  {
   "cell_type": "code",
   "outputs": [
    {
     "name": "stdout",
     "output_type": "stream",
     "text": [
      "+-----+----------+------+------+---+-----+-------+------+----------+-----------+-----------+----------+\n",
      "|Index|      Name| Type1| Type2| Hp|Speed|Defence|Attack|Sp. Attack|Sp. Defence|IsLegendary|IsMythical|\n",
      "+-----+----------+------+------+---+-----+-------+------+----------+-----------+-----------+----------+\n",
      "|Index|      Name|  Type|  NULL| hp|speed|defense|attack|   Sp. Atk|    Sp. Def|IsLegendary|IsMythical|\n",
      "|    1| bulbasaur| grass|poison| 45|   49|     49|    65|        65|         45|      False|     False|\n",
      "|    2|   ivysaur| grass|poison| 60|   62|     63|    80|        80|         60|      False|     False|\n",
      "|    3|  venusaur| grass|poison| 80|   82|     83|   100|       100|         80|      False|     False|\n",
      "|    4|charmander|  fire|  NULL| 39|   52|     43|    60|        50|         65|      False|     False|\n",
      "|    5|charmeleon|  fire|  NULL| 58|   64|     58|    80|        65|         80|      False|     False|\n",
      "|    6| charizard|  fire|flying| 78|   84|     78|   109|        85|        100|      False|     False|\n",
      "|    7|  squirtle| water|  NULL| 44|   48|     65|    50|        64|         43|      False|     False|\n",
      "|    8| wartortle| water|  NULL| 59|   63|     80|    65|        80|         58|      False|     False|\n",
      "|    9| blastoise| water|  NULL| 79|   83|    100|    85|       105|         78|      False|     False|\n",
      "|   10|  caterpie|   bug|  NULL| 45|   30|     35|    20|        20|         45|      False|     False|\n",
      "|   11|   metapod|   bug|  NULL| 50|   20|     55|    25|        25|         30|      False|     False|\n",
      "|   12|butterfree|   bug|flying| 60|   45|     50|    90|        80|         70|      False|     False|\n",
      "|   13|    weedle|   bug|poison| 40|   35|     30|    20|        20|         50|      False|     False|\n",
      "|   14|    kakuna|   bug|poison| 45|   25|     50|    25|        25|         35|      False|     False|\n",
      "|   15|  beedrill|   bug|poison| 65|   90|     40|    45|        80|         75|      False|     False|\n",
      "|   16|    pidgey|normal|flying| 40|   45|     40|    35|        35|         56|      False|     False|\n",
      "|   17| pidgeotto|normal|flying| 63|   60|     55|    50|        50|         71|      False|     False|\n",
      "|   18|   pidgeot|normal|flying| 83|   80|     75|    70|        70|        101|      False|     False|\n",
      "|   19|   rattata|normal|  NULL| 30|   56|     35|    25|        35|         72|      False|     False|\n",
      "+-----+----------+------+------+---+-----+-------+------+----------+-----------+-----------+----------+\n"
     ]
    }
   ],
   "source": [
    "df.show()"
   ],
   "metadata": {
    "collapsed": false,
    "ExecuteTime": {
     "end_time": "2024-07-04T18:24:32.058995Z",
     "start_time": "2024-07-04T18:24:31.672809Z"
    }
   },
   "id": "ca5a99d03cc52b9f",
   "execution_count": 205
  },
  {
   "cell_type": "code",
   "outputs": [],
   "source": [
    "df.write.csv(\"pokemon.csv\")"
   ],
   "metadata": {
    "collapsed": false,
    "ExecuteTime": {
     "end_time": "2024-07-04T18:24:32.504012Z",
     "start_time": "2024-07-04T18:24:32.059611Z"
    }
   },
   "id": "f0dfc9646a5f020a",
   "execution_count": 206
  },
  {
   "cell_type": "code",
   "outputs": [],
   "source": [],
   "metadata": {
    "collapsed": false,
    "ExecuteTime": {
     "end_time": "2024-07-04T18:24:32.505632Z",
     "start_time": "2024-07-04T18:24:32.504610Z"
    }
   },
   "id": "b69e7876fc39c656",
   "execution_count": 206
  }
 ],
 "metadata": {
  "kernelspec": {
   "display_name": "Python 3",
   "language": "python",
   "name": "python3"
  },
  "language_info": {
   "codemirror_mode": {
    "name": "ipython",
    "version": 2
   },
   "file_extension": ".py",
   "mimetype": "text/x-python",
   "name": "python",
   "nbconvert_exporter": "python",
   "pygments_lexer": "ipython2",
   "version": "2.7.6"
  }
 },
 "nbformat": 4,
 "nbformat_minor": 5
}
