{
 "cells": [
  {
   "cell_type": "code",
   "execution_count": 113,
   "id": "initial_id",
   "metadata": {
    "collapsed": true,
    "ExecuteTime": {
     "end_time": "2024-07-04T18:20:36.341772Z",
     "start_time": "2024-07-04T18:20:36.338459Z"
    }
   },
   "outputs": [],
   "source": [
    "from pyspark.sql import SparkSession\n",
    "import pyspark"
   ]
  },
  {
   "cell_type": "code",
   "outputs": [],
   "source": [
    "spark = (SparkSession.builder\n",
    "         .appName(\"CleanData\")\n",
    "         .getOrCreate())"
   ],
   "metadata": {
    "collapsed": false,
    "ExecuteTime": {
     "end_time": "2024-07-04T18:20:36.370929Z",
     "start_time": "2024-07-04T18:20:36.354310Z"
    }
   },
   "id": "9bac70d31271fe76",
   "execution_count": 114
  },
  {
   "cell_type": "code",
   "outputs": [],
   "source": [
    "df = spark.read.csv(\"pokemon_base_data.csv\")"
   ],
   "metadata": {
    "collapsed": false,
    "ExecuteTime": {
     "end_time": "2024-07-04T18:20:36.846096Z",
     "start_time": "2024-07-04T18:20:36.371859Z"
    }
   },
   "id": "80b9b126bfd81668",
   "execution_count": 115
  },
  {
   "cell_type": "code",
   "outputs": [
    {
     "name": "stdout",
     "output_type": "stream",
     "text": [
      "+-----+----------+-------------+\n",
      "|  _c0|       _c1|          _c2|\n",
      "+-----+----------+-------------+\n",
      "|Index|      Name|         Type|\n",
      "|    1| bulbasaur| grass poison|\n",
      "|    2|   ivysaur| grass poison|\n",
      "|    3|  venusaur| grass poison|\n",
      "|    4|charmander|         fire|\n",
      "|    5|charmeleon|         fire|\n",
      "|    6| charizard|  fire flying|\n",
      "|    7|  squirtle|        water|\n",
      "|    8| wartortle|        water|\n",
      "|    9| blastoise|        water|\n",
      "|   10|  caterpie|          bug|\n",
      "|   11|   metapod|          bug|\n",
      "|   12|butterfree|   bug flying|\n",
      "|   13|    weedle|   bug poison|\n",
      "|   14|    kakuna|   bug poison|\n",
      "|   15|  beedrill|   bug poison|\n",
      "|   16|    pidgey|normal flying|\n",
      "|   17| pidgeotto|normal flying|\n",
      "|   18|   pidgeot|normal flying|\n",
      "|   19|   rattata|       normal|\n",
      "+-----+----------+-------------+\n"
     ]
    }
   ],
   "source": [
    "df.show()"
   ],
   "metadata": {
    "collapsed": false,
    "ExecuteTime": {
     "end_time": "2024-07-04T18:20:36.923275Z",
     "start_time": "2024-07-04T18:20:36.846763Z"
    }
   },
   "id": "2e7430628d9bf82b",
   "execution_count": 116
  },
  {
   "cell_type": "code",
   "outputs": [
    {
     "name": "stdout",
     "output_type": "stream",
     "text": [
      "root\n",
      " |-- _c0: string (nullable = true)\n",
      " |-- _c1: string (nullable = true)\n",
      " |-- _c2: string (nullable = true)\n"
     ]
    }
   ],
   "source": [
    "df.printSchema()"
   ],
   "metadata": {
    "collapsed": false,
    "ExecuteTime": {
     "end_time": "2024-07-04T18:20:36.926526Z",
     "start_time": "2024-07-04T18:20:36.924340Z"
    }
   },
   "id": "a5b189f66e9e82cf",
   "execution_count": 117
  },
  {
   "cell_type": "code",
   "outputs": [],
   "source": [
    "df = df.withColumnRenamed(\"_c0\",\"Index\")\n",
    "df = df.withColumnRenamed(\"_c1\",\"Name\") \n",
    "df = df.withColumnRenamed(\"_c2\",\"Type\") \n"
   ],
   "metadata": {
    "collapsed": false,
    "ExecuteTime": {
     "end_time": "2024-07-04T18:20:36.934705Z",
     "start_time": "2024-07-04T18:20:36.927062Z"
    }
   },
   "id": "5f9acc16fa5a45c4",
   "execution_count": 118
  },
  {
   "cell_type": "code",
   "outputs": [
    {
     "name": "stdout",
     "output_type": "stream",
     "text": [
      "+-----+----------+-------------+\n",
      "|Index|      Name|         Type|\n",
      "+-----+----------+-------------+\n",
      "|Index|      Name|         Type|\n",
      "|    1| bulbasaur| grass poison|\n",
      "|    2|   ivysaur| grass poison|\n",
      "|    3|  venusaur| grass poison|\n",
      "|    4|charmander|         fire|\n",
      "|    5|charmeleon|         fire|\n",
      "|    6| charizard|  fire flying|\n",
      "|    7|  squirtle|        water|\n",
      "|    8| wartortle|        water|\n",
      "|    9| blastoise|        water|\n",
      "|   10|  caterpie|          bug|\n",
      "|   11|   metapod|          bug|\n",
      "|   12|butterfree|   bug flying|\n",
      "|   13|    weedle|   bug poison|\n",
      "|   14|    kakuna|   bug poison|\n",
      "|   15|  beedrill|   bug poison|\n",
      "|   16|    pidgey|normal flying|\n",
      "|   17| pidgeotto|normal flying|\n",
      "|   18|   pidgeot|normal flying|\n",
      "|   19|   rattata|       normal|\n",
      "+-----+----------+-------------+\n"
     ]
    }
   ],
   "source": [
    "df.show()"
   ],
   "metadata": {
    "collapsed": false,
    "ExecuteTime": {
     "end_time": "2024-07-04T18:20:36.988438Z",
     "start_time": "2024-07-04T18:20:36.935150Z"
    }
   },
   "id": "a7a79cdb081101a0",
   "execution_count": 119
  },
  {
   "cell_type": "markdown",
   "source": [
    "Splitting the type column"
   ],
   "metadata": {
    "collapsed": false
   },
   "id": "dca5a85318a702cb"
  },
  {
   "cell_type": "code",
   "outputs": [],
   "source": [
    "\n",
    "from pyspark.sql.functions import split\n",
    "\n",
    "#split the values column based on the space delimiter\n",
    "split_col = split(df['type'], ' ')\n",
    "\n",
    "#adding the split columns to the data frame\n",
    "df = df.withColumn('Type1', split_col.getItem(0))\n",
    "df = df.withColumn('Type2', split_col.getItem(1))"
   ],
   "metadata": {
    "collapsed": false,
    "ExecuteTime": {
     "end_time": "2024-07-04T18:20:36.999162Z",
     "start_time": "2024-07-04T18:20:36.989017Z"
    }
   },
   "id": "c8ace15cea4d50f3",
   "execution_count": 120
  },
  {
   "cell_type": "code",
   "outputs": [
    {
     "name": "stdout",
     "output_type": "stream",
     "text": [
      "+-----+----------+-------------+------+------+\n",
      "|Index|      Name|         Type| Type1| Type2|\n",
      "+-----+----------+-------------+------+------+\n",
      "|Index|      Name|         Type|  Type|  NULL|\n",
      "|    1| bulbasaur| grass poison| grass|poison|\n",
      "|    2|   ivysaur| grass poison| grass|poison|\n",
      "|    3|  venusaur| grass poison| grass|poison|\n",
      "|    4|charmander|         fire|  fire|  NULL|\n",
      "|    5|charmeleon|         fire|  fire|  NULL|\n",
      "|    6| charizard|  fire flying|  fire|flying|\n",
      "|    7|  squirtle|        water| water|  NULL|\n",
      "|    8| wartortle|        water| water|  NULL|\n",
      "|    9| blastoise|        water| water|  NULL|\n",
      "|   10|  caterpie|          bug|   bug|  NULL|\n",
      "|   11|   metapod|          bug|   bug|  NULL|\n",
      "|   12|butterfree|   bug flying|   bug|flying|\n",
      "|   13|    weedle|   bug poison|   bug|poison|\n",
      "|   14|    kakuna|   bug poison|   bug|poison|\n",
      "|   15|  beedrill|   bug poison|   bug|poison|\n",
      "|   16|    pidgey|normal flying|normal|flying|\n",
      "|   17| pidgeotto|normal flying|normal|flying|\n",
      "|   18|   pidgeot|normal flying|normal|flying|\n",
      "|   19|   rattata|       normal|normal|  NULL|\n",
      "+-----+----------+-------------+------+------+\n"
     ]
    }
   ],
   "source": [
    "df.show()"
   ],
   "metadata": {
    "collapsed": false,
    "ExecuteTime": {
     "end_time": "2024-07-04T18:20:37.071263Z",
     "start_time": "2024-07-04T18:20:37.000133Z"
    }
   },
   "id": "8eb5d8d5a333030d",
   "execution_count": 121
  },
  {
   "cell_type": "code",
   "outputs": [],
   "source": [
    "df2 = spark.read.csv(\"pokemon_stats_data.csv\")"
   ],
   "metadata": {
    "collapsed": false,
    "ExecuteTime": {
     "end_time": "2024-07-04T18:20:37.161279Z",
     "start_time": "2024-07-04T18:20:37.071873Z"
    }
   },
   "id": "b8164ee4059a2cc8",
   "execution_count": 122
  },
  {
   "cell_type": "code",
   "outputs": [
    {
     "name": "stdout",
     "output_type": "stream",
     "text": [
      "+-----+---+-----+-------+------+-------+-------+\n",
      "|  _c0|_c1|  _c2|    _c3|   _c4|    _c5|    _c6|\n",
      "+-----+---+-----+-------+------+-------+-------+\n",
      "|Index| hp|speed|defense|attack|Sp. Atk|Sp. Def|\n",
      "|    1| 45|   49|     49|    65|     65|     45|\n",
      "|    2| 60|   62|     63|    80|     80|     60|\n",
      "|    3| 80|   82|     83|   100|    100|     80|\n",
      "|    4| 39|   52|     43|    60|     50|     65|\n",
      "|    5| 58|   64|     58|    80|     65|     80|\n",
      "|    6| 78|   84|     78|   109|     85|    100|\n",
      "|    7| 44|   48|     65|    50|     64|     43|\n",
      "|    8| 59|   63|     80|    65|     80|     58|\n",
      "|    9| 79|   83|    100|    85|    105|     78|\n",
      "|   10| 45|   30|     35|    20|     20|     45|\n",
      "|   11| 50|   20|     55|    25|     25|     30|\n",
      "|   12| 60|   45|     50|    90|     80|     70|\n",
      "|   13| 40|   35|     30|    20|     20|     50|\n",
      "|   14| 45|   25|     50|    25|     25|     35|\n",
      "|   15| 65|   90|     40|    45|     80|     75|\n",
      "|   16| 40|   45|     40|    35|     35|     56|\n",
      "|   17| 63|   60|     55|    50|     50|     71|\n",
      "|   18| 83|   80|     75|    70|     70|    101|\n",
      "|   19| 30|   56|     35|    25|     35|     72|\n",
      "+-----+---+-----+-------+------+-------+-------+\n"
     ]
    }
   ],
   "source": [
    "df2.show()"
   ],
   "metadata": {
    "collapsed": false,
    "ExecuteTime": {
     "end_time": "2024-07-04T18:20:37.214061Z",
     "start_time": "2024-07-04T18:20:37.163082Z"
    }
   },
   "id": "850420f83e8781b1",
   "execution_count": 123
  },
  {
   "cell_type": "code",
   "outputs": [],
   "source": [
    "df2 = df2.withColumnRenamed(\"_c0\",\"Index\")\n",
    "df2 = df2.withColumnRenamed(\"_c1\",\"Hp\") \n",
    "df2 = df2.withColumnRenamed(\"_c2\",\"Speed\")\n",
    "df2 = df2.withColumnRenamed(\"_c3\",\"Defence\") \n",
    "df2 = df2.withColumnRenamed(\"_c4\",\"Attack\")\n",
    "df2 = df2.withColumnRenamed(\"_c5\",\"Sp. Attack\") \n",
    "df2 = df2.withColumnRenamed(\"_c6\",\"Sp. Defence\")"
   ],
   "metadata": {
    "collapsed": false,
    "ExecuteTime": {
     "end_time": "2024-07-04T18:20:37.232267Z",
     "start_time": "2024-07-04T18:20:37.214650Z"
    }
   },
   "id": "26ff363c17f5699d",
   "execution_count": 124
  },
  {
   "cell_type": "code",
   "outputs": [
    {
     "name": "stdout",
     "output_type": "stream",
     "text": [
      "+-----+---+-----+-------+------+----------+-----------+\n",
      "|Index| Hp|Speed|Defence|Attack|Sp. Attack|Sp. Defence|\n",
      "+-----+---+-----+-------+------+----------+-----------+\n",
      "|Index| hp|speed|defense|attack|   Sp. Atk|    Sp. Def|\n",
      "|    1| 45|   49|     49|    65|        65|         45|\n",
      "|    2| 60|   62|     63|    80|        80|         60|\n",
      "|    3| 80|   82|     83|   100|       100|         80|\n",
      "|    4| 39|   52|     43|    60|        50|         65|\n",
      "|    5| 58|   64|     58|    80|        65|         80|\n",
      "|    6| 78|   84|     78|   109|        85|        100|\n",
      "|    7| 44|   48|     65|    50|        64|         43|\n",
      "|    8| 59|   63|     80|    65|        80|         58|\n",
      "|    9| 79|   83|    100|    85|       105|         78|\n",
      "|   10| 45|   30|     35|    20|        20|         45|\n",
      "|   11| 50|   20|     55|    25|        25|         30|\n",
      "|   12| 60|   45|     50|    90|        80|         70|\n",
      "|   13| 40|   35|     30|    20|        20|         50|\n",
      "|   14| 45|   25|     50|    25|        25|         35|\n",
      "|   15| 65|   90|     40|    45|        80|         75|\n",
      "|   16| 40|   45|     40|    35|        35|         56|\n",
      "|   17| 63|   60|     55|    50|        50|         71|\n",
      "|   18| 83|   80|     75|    70|        70|        101|\n",
      "|   19| 30|   56|     35|    25|        35|         72|\n",
      "+-----+---+-----+-------+------+----------+-----------+\n"
     ]
    }
   ],
   "source": [
    "df2.show()"
   ],
   "metadata": {
    "collapsed": false,
    "ExecuteTime": {
     "end_time": "2024-07-04T18:20:37.300895Z",
     "start_time": "2024-07-04T18:20:37.232823Z"
    }
   },
   "id": "3ae45290e9d4d1cf",
   "execution_count": 125
  },
  {
   "cell_type": "code",
   "outputs": [],
   "source": [
    "df3 = spark.read.csv(\"pokemon_species_data.csv\")"
   ],
   "metadata": {
    "collapsed": false,
    "ExecuteTime": {
     "end_time": "2024-07-04T18:20:37.491560Z",
     "start_time": "2024-07-04T18:20:37.301408Z"
    }
   },
   "id": "6ef1c84ad706efd4",
   "execution_count": 126
  },
  {
   "cell_type": "code",
   "outputs": [
    {
     "name": "stdout",
     "output_type": "stream",
     "text": [
      "+-----+-----------+----------+\n",
      "|  _c0|        _c1|       _c2|\n",
      "+-----+-----------+----------+\n",
      "|Index|IsLegendary|IsMythical|\n",
      "|    1|      False|     False|\n",
      "|    2|      False|     False|\n",
      "|    3|      False|     False|\n",
      "|    4|      False|     False|\n",
      "|    5|      False|     False|\n",
      "|    6|      False|     False|\n",
      "|    7|      False|     False|\n",
      "|    8|      False|     False|\n",
      "|    9|      False|     False|\n",
      "|   10|      False|     False|\n",
      "|   11|      False|     False|\n",
      "|   12|      False|     False|\n",
      "|   13|      False|     False|\n",
      "|   14|      False|     False|\n",
      "|   15|      False|     False|\n",
      "|   16|      False|     False|\n",
      "|   17|      False|     False|\n",
      "|   18|      False|     False|\n",
      "|   19|      False|     False|\n",
      "+-----+-----------+----------+\n"
     ]
    }
   ],
   "source": [
    "df3.show()"
   ],
   "metadata": {
    "collapsed": false,
    "ExecuteTime": {
     "end_time": "2024-07-04T18:20:37.638744Z",
     "start_time": "2024-07-04T18:20:37.492214Z"
    }
   },
   "id": "2d3a2e0006a12ac1",
   "execution_count": 127
  },
  {
   "cell_type": "code",
   "outputs": [],
   "source": [
    "df3 = df3.withColumnRenamed(\"_c0\",\"Index\")\n",
    "df3 = df3.withColumnRenamed(\"_c1\",\"IsLegendary\") \n",
    "df3 = df3.withColumnRenamed(\"_c2\",\"IsMythical\")"
   ],
   "metadata": {
    "collapsed": false,
    "ExecuteTime": {
     "end_time": "2024-07-04T18:20:37.671862Z",
     "start_time": "2024-07-04T18:20:37.639677Z"
    }
   },
   "id": "453438baf04163a1",
   "execution_count": 128
  },
  {
   "cell_type": "code",
   "outputs": [
    {
     "name": "stdout",
     "output_type": "stream",
     "text": [
      "+-----+-----------+----------+\n",
      "|Index|IsLegendary|IsMythical|\n",
      "+-----+-----------+----------+\n",
      "|Index|IsLegendary|IsMythical|\n",
      "|    1|      False|     False|\n",
      "|    2|      False|     False|\n",
      "|    3|      False|     False|\n",
      "|    4|      False|     False|\n",
      "|    5|      False|     False|\n",
      "|    6|      False|     False|\n",
      "|    7|      False|     False|\n",
      "|    8|      False|     False|\n",
      "|    9|      False|     False|\n",
      "|   10|      False|     False|\n",
      "|   11|      False|     False|\n",
      "|   12|      False|     False|\n",
      "|   13|      False|     False|\n",
      "|   14|      False|     False|\n",
      "|   15|      False|     False|\n",
      "|   16|      False|     False|\n",
      "|   17|      False|     False|\n",
      "|   18|      False|     False|\n",
      "|   19|      False|     False|\n",
      "+-----+-----------+----------+\n"
     ]
    }
   ],
   "source": [
    "df3.show()"
   ],
   "metadata": {
    "collapsed": false,
    "ExecuteTime": {
     "end_time": "2024-07-04T18:20:37.765520Z",
     "start_time": "2024-07-04T18:20:37.672485Z"
    }
   },
   "id": "2187d6f042cd6171",
   "execution_count": 129
  },
  {
   "cell_type": "code",
   "outputs": [],
   "source": [
    "first_join = df.join(df2, df.Index == df2.Index, \"left\").drop(df2.Index, df.Type)"
   ],
   "metadata": {
    "collapsed": false,
    "ExecuteTime": {
     "end_time": "2024-07-04T18:20:37.786426Z",
     "start_time": "2024-07-04T18:20:37.766083Z"
    }
   },
   "id": "9576d838b13f3d0",
   "execution_count": 130
  },
  {
   "cell_type": "code",
   "outputs": [
    {
     "name": "stdout",
     "output_type": "stream",
     "text": [
      "+-----+----------+------+------+---+-----+-------+------+----------+-----------+\n",
      "|Index|      Name| Type1| Type2| Hp|Speed|Defence|Attack|Sp. Attack|Sp. Defence|\n",
      "+-----+----------+------+------+---+-----+-------+------+----------+-----------+\n",
      "|Index|      Name|  Type|  NULL| hp|speed|defense|attack|   Sp. Atk|    Sp. Def|\n",
      "|    1| bulbasaur| grass|poison| 45|   49|     49|    65|        65|         45|\n",
      "|    2|   ivysaur| grass|poison| 60|   62|     63|    80|        80|         60|\n",
      "|    3|  venusaur| grass|poison| 80|   82|     83|   100|       100|         80|\n",
      "|    4|charmander|  fire|  NULL| 39|   52|     43|    60|        50|         65|\n",
      "|    5|charmeleon|  fire|  NULL| 58|   64|     58|    80|        65|         80|\n",
      "|    6| charizard|  fire|flying| 78|   84|     78|   109|        85|        100|\n",
      "|    7|  squirtle| water|  NULL| 44|   48|     65|    50|        64|         43|\n",
      "|    8| wartortle| water|  NULL| 59|   63|     80|    65|        80|         58|\n",
      "|    9| blastoise| water|  NULL| 79|   83|    100|    85|       105|         78|\n",
      "|   10|  caterpie|   bug|  NULL| 45|   30|     35|    20|        20|         45|\n",
      "|   11|   metapod|   bug|  NULL| 50|   20|     55|    25|        25|         30|\n",
      "|   12|butterfree|   bug|flying| 60|   45|     50|    90|        80|         70|\n",
      "|   13|    weedle|   bug|poison| 40|   35|     30|    20|        20|         50|\n",
      "|   14|    kakuna|   bug|poison| 45|   25|     50|    25|        25|         35|\n",
      "|   15|  beedrill|   bug|poison| 65|   90|     40|    45|        80|         75|\n",
      "|   16|    pidgey|normal|flying| 40|   45|     40|    35|        35|         56|\n",
      "|   17| pidgeotto|normal|flying| 63|   60|     55|    50|        50|         71|\n",
      "|   18|   pidgeot|normal|flying| 83|   80|     75|    70|        70|        101|\n",
      "|   19|   rattata|normal|  NULL| 30|   56|     35|    25|        35|         72|\n",
      "+-----+----------+------+------+---+-----+-------+------+----------+-----------+\n"
     ]
    }
   ],
   "source": [
    "first_join.show()"
   ],
   "metadata": {
    "collapsed": false,
    "ExecuteTime": {
     "end_time": "2024-07-04T18:20:37.979200Z",
     "start_time": "2024-07-04T18:20:37.787034Z"
    }
   },
   "id": "3d76bd6766638b8d",
   "execution_count": 131
  },
  {
   "cell_type": "code",
   "outputs": [],
   "source": [
    "df = first_join.join(df3, first_join.Index == df3.Index, \"left\").drop(df3.Index)"
   ],
   "metadata": {
    "collapsed": false,
    "ExecuteTime": {
     "end_time": "2024-07-04T18:20:37.994799Z",
     "start_time": "2024-07-04T18:20:37.980350Z"
    }
   },
   "id": "e22b544eb085fc14",
   "execution_count": 132
  },
  {
   "cell_type": "code",
   "outputs": [
    {
     "name": "stdout",
     "output_type": "stream",
     "text": [
      "+-----+----------+------+------+---+-----+-------+------+----------+-----------+-----------+----------+\n",
      "|Index|      Name| Type1| Type2| Hp|Speed|Defence|Attack|Sp. Attack|Sp. Defence|IsLegendary|IsMythical|\n",
      "+-----+----------+------+------+---+-----+-------+------+----------+-----------+-----------+----------+\n",
      "|Index|      Name|  Type|  NULL| hp|speed|defense|attack|   Sp. Atk|    Sp. Def|IsLegendary|IsMythical|\n",
      "|    1| bulbasaur| grass|poison| 45|   49|     49|    65|        65|         45|      False|     False|\n",
      "|    2|   ivysaur| grass|poison| 60|   62|     63|    80|        80|         60|      False|     False|\n",
      "|    3|  venusaur| grass|poison| 80|   82|     83|   100|       100|         80|      False|     False|\n",
      "|    4|charmander|  fire|  NULL| 39|   52|     43|    60|        50|         65|      False|     False|\n",
      "|    5|charmeleon|  fire|  NULL| 58|   64|     58|    80|        65|         80|      False|     False|\n",
      "|    6| charizard|  fire|flying| 78|   84|     78|   109|        85|        100|      False|     False|\n",
      "|    7|  squirtle| water|  NULL| 44|   48|     65|    50|        64|         43|      False|     False|\n",
      "|    8| wartortle| water|  NULL| 59|   63|     80|    65|        80|         58|      False|     False|\n",
      "|    9| blastoise| water|  NULL| 79|   83|    100|    85|       105|         78|      False|     False|\n",
      "|   10|  caterpie|   bug|  NULL| 45|   30|     35|    20|        20|         45|      False|     False|\n",
      "|   11|   metapod|   bug|  NULL| 50|   20|     55|    25|        25|         30|      False|     False|\n",
      "|   12|butterfree|   bug|flying| 60|   45|     50|    90|        80|         70|      False|     False|\n",
      "|   13|    weedle|   bug|poison| 40|   35|     30|    20|        20|         50|      False|     False|\n",
      "|   14|    kakuna|   bug|poison| 45|   25|     50|    25|        25|         35|      False|     False|\n",
      "|   15|  beedrill|   bug|poison| 65|   90|     40|    45|        80|         75|      False|     False|\n",
      "|   16|    pidgey|normal|flying| 40|   45|     40|    35|        35|         56|      False|     False|\n",
      "|   17| pidgeotto|normal|flying| 63|   60|     55|    50|        50|         71|      False|     False|\n",
      "|   18|   pidgeot|normal|flying| 83|   80|     75|    70|        70|        101|      False|     False|\n",
      "|   19|   rattata|normal|  NULL| 30|   56|     35|    25|        35|         72|      False|     False|\n",
      "+-----+----------+------+------+---+-----+-------+------+----------+-----------+-----------+----------+\n"
     ]
    }
   ],
   "source": [
    "df.show()"
   ],
   "metadata": {
    "collapsed": false,
    "ExecuteTime": {
     "end_time": "2024-07-04T18:20:38.356502Z",
     "start_time": "2024-07-04T18:20:37.995530Z"
    }
   },
   "id": "ca5a99d03cc52b9f",
   "execution_count": 133
  },
  {
   "cell_type": "code",
   "outputs": [
    {
     "ename": "AnalysisException",
     "evalue": "[PATH_ALREADY_EXISTS] Path file:/Users/christian-raygarcia/Documents/GitHub/Pokemon-Pyspark-CSV/pokemon.csv already exists. Set mode as \"overwrite\" to overwrite the existing path.",
     "output_type": "error",
     "traceback": [
      "\u001B[0;31m---------------------------------------------------------------------------\u001B[0m",
      "\u001B[0;31mAnalysisException\u001B[0m                         Traceback (most recent call last)",
      "Cell \u001B[0;32mIn[134], line 1\u001B[0m\n\u001B[0;32m----> 1\u001B[0m \u001B[43mdf\u001B[49m\u001B[38;5;241;43m.\u001B[39;49m\u001B[43mwrite\u001B[49m\u001B[38;5;241;43m.\u001B[39;49m\u001B[43mcsv\u001B[49m\u001B[43m(\u001B[49m\u001B[38;5;124;43m\"\u001B[39;49m\u001B[38;5;124;43mpokemon.csv\u001B[39;49m\u001B[38;5;124;43m\"\u001B[39;49m\u001B[43m)\u001B[49m\n",
      "File \u001B[0;32m~/Documents/GitHub/Pokemon-Pyspark-CSV/.venv/lib/python3.12/site-packages/pyspark/sql/readwriter.py:1864\u001B[0m, in \u001B[0;36mDataFrameWriter.csv\u001B[0;34m(self, path, mode, compression, sep, quote, escape, header, nullValue, escapeQuotes, quoteAll, dateFormat, timestampFormat, ignoreLeadingWhiteSpace, ignoreTrailingWhiteSpace, charToEscapeQuoteEscaping, encoding, emptyValue, lineSep)\u001B[0m\n\u001B[1;32m   1845\u001B[0m \u001B[38;5;28mself\u001B[39m\u001B[38;5;241m.\u001B[39mmode(mode)\n\u001B[1;32m   1846\u001B[0m \u001B[38;5;28mself\u001B[39m\u001B[38;5;241m.\u001B[39m_set_opts(\n\u001B[1;32m   1847\u001B[0m     compression\u001B[38;5;241m=\u001B[39mcompression,\n\u001B[1;32m   1848\u001B[0m     sep\u001B[38;5;241m=\u001B[39msep,\n\u001B[0;32m   (...)\u001B[0m\n\u001B[1;32m   1862\u001B[0m     lineSep\u001B[38;5;241m=\u001B[39mlineSep,\n\u001B[1;32m   1863\u001B[0m )\n\u001B[0;32m-> 1864\u001B[0m \u001B[38;5;28;43mself\u001B[39;49m\u001B[38;5;241;43m.\u001B[39;49m\u001B[43m_jwrite\u001B[49m\u001B[38;5;241;43m.\u001B[39;49m\u001B[43mcsv\u001B[49m\u001B[43m(\u001B[49m\u001B[43mpath\u001B[49m\u001B[43m)\u001B[49m\n",
      "File \u001B[0;32m~/Documents/GitHub/Pokemon-Pyspark-CSV/.venv/lib/python3.12/site-packages/py4j/java_gateway.py:1322\u001B[0m, in \u001B[0;36mJavaMember.__call__\u001B[0;34m(self, *args)\u001B[0m\n\u001B[1;32m   1316\u001B[0m command \u001B[38;5;241m=\u001B[39m proto\u001B[38;5;241m.\u001B[39mCALL_COMMAND_NAME \u001B[38;5;241m+\u001B[39m\\\n\u001B[1;32m   1317\u001B[0m     \u001B[38;5;28mself\u001B[39m\u001B[38;5;241m.\u001B[39mcommand_header \u001B[38;5;241m+\u001B[39m\\\n\u001B[1;32m   1318\u001B[0m     args_command \u001B[38;5;241m+\u001B[39m\\\n\u001B[1;32m   1319\u001B[0m     proto\u001B[38;5;241m.\u001B[39mEND_COMMAND_PART\n\u001B[1;32m   1321\u001B[0m answer \u001B[38;5;241m=\u001B[39m \u001B[38;5;28mself\u001B[39m\u001B[38;5;241m.\u001B[39mgateway_client\u001B[38;5;241m.\u001B[39msend_command(command)\n\u001B[0;32m-> 1322\u001B[0m return_value \u001B[38;5;241m=\u001B[39m \u001B[43mget_return_value\u001B[49m\u001B[43m(\u001B[49m\n\u001B[1;32m   1323\u001B[0m \u001B[43m    \u001B[49m\u001B[43manswer\u001B[49m\u001B[43m,\u001B[49m\u001B[43m \u001B[49m\u001B[38;5;28;43mself\u001B[39;49m\u001B[38;5;241;43m.\u001B[39;49m\u001B[43mgateway_client\u001B[49m\u001B[43m,\u001B[49m\u001B[43m \u001B[49m\u001B[38;5;28;43mself\u001B[39;49m\u001B[38;5;241;43m.\u001B[39;49m\u001B[43mtarget_id\u001B[49m\u001B[43m,\u001B[49m\u001B[43m \u001B[49m\u001B[38;5;28;43mself\u001B[39;49m\u001B[38;5;241;43m.\u001B[39;49m\u001B[43mname\u001B[49m\u001B[43m)\u001B[49m\n\u001B[1;32m   1325\u001B[0m \u001B[38;5;28;01mfor\u001B[39;00m temp_arg \u001B[38;5;129;01min\u001B[39;00m temp_args:\n\u001B[1;32m   1326\u001B[0m     \u001B[38;5;28;01mif\u001B[39;00m \u001B[38;5;28mhasattr\u001B[39m(temp_arg, \u001B[38;5;124m\"\u001B[39m\u001B[38;5;124m_detach\u001B[39m\u001B[38;5;124m\"\u001B[39m):\n",
      "File \u001B[0;32m~/Documents/GitHub/Pokemon-Pyspark-CSV/.venv/lib/python3.12/site-packages/pyspark/errors/exceptions/captured.py:185\u001B[0m, in \u001B[0;36mcapture_sql_exception.<locals>.deco\u001B[0;34m(*a, **kw)\u001B[0m\n\u001B[1;32m    181\u001B[0m converted \u001B[38;5;241m=\u001B[39m convert_exception(e\u001B[38;5;241m.\u001B[39mjava_exception)\n\u001B[1;32m    182\u001B[0m \u001B[38;5;28;01mif\u001B[39;00m \u001B[38;5;129;01mnot\u001B[39;00m \u001B[38;5;28misinstance\u001B[39m(converted, UnknownException):\n\u001B[1;32m    183\u001B[0m     \u001B[38;5;66;03m# Hide where the exception came from that shows a non-Pythonic\u001B[39;00m\n\u001B[1;32m    184\u001B[0m     \u001B[38;5;66;03m# JVM exception message.\u001B[39;00m\n\u001B[0;32m--> 185\u001B[0m     \u001B[38;5;28;01mraise\u001B[39;00m converted \u001B[38;5;28;01mfrom\u001B[39;00m \u001B[38;5;28;01mNone\u001B[39;00m\n\u001B[1;32m    186\u001B[0m \u001B[38;5;28;01melse\u001B[39;00m:\n\u001B[1;32m    187\u001B[0m     \u001B[38;5;28;01mraise\u001B[39;00m\n",
      "\u001B[0;31mAnalysisException\u001B[0m: [PATH_ALREADY_EXISTS] Path file:/Users/christian-raygarcia/Documents/GitHub/Pokemon-Pyspark-CSV/pokemon.csv already exists. Set mode as \"overwrite\" to overwrite the existing path."
     ]
    }
   ],
   "source": [
    "df.write.csv(\"pokemon.csv\")"
   ],
   "metadata": {
    "collapsed": false,
    "ExecuteTime": {
     "end_time": "2024-07-04T18:20:38.677197Z",
     "start_time": "2024-07-04T18:20:38.361500Z"
    }
   },
   "id": "f0dfc9646a5f020a",
   "execution_count": 134
  },
  {
   "cell_type": "code",
   "outputs": [],
   "source": [],
   "metadata": {
    "collapsed": false
   },
   "id": "456a0825601faef2"
  }
 ],
 "metadata": {
  "kernelspec": {
   "display_name": "Python 3",
   "language": "python",
   "name": "python3"
  },
  "language_info": {
   "codemirror_mode": {
    "name": "ipython",
    "version": 2
   },
   "file_extension": ".py",
   "mimetype": "text/x-python",
   "name": "python",
   "nbconvert_exporter": "python",
   "pygments_lexer": "ipython2",
   "version": "2.7.6"
  }
 },
 "nbformat": 4,
 "nbformat_minor": 5
}
